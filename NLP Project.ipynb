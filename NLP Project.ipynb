{
  "nbformat": 4,
  "nbformat_minor": 0,
  "metadata": {
    "colab": {
      "name": "Projet_TALN_(Mohamed_Sahraoui_+_Jawher_Afli_+_Helmi_Ghenia_+_Idriss_Ben_Hmida).ipynb",
      "provenance": [],
      "collapsed_sections": []
    },
    "kernelspec": {
      "name": "python3",
      "display_name": "Python 3"
    }
  },
  "cells": [
    {
      "cell_type": "markdown",
      "metadata": {
        "id": "mrxdQZmJ17tR"
      },
      "source": [
        "# I- Importing Modules:"
      ]
    },
    {
      "cell_type": "code",
      "metadata": {
        "colab": {
          "base_uri": "https://localhost:8080/"
        },
        "id": "gZvA7x8BxinS",
        "outputId": "395d1e5a-0255-4b69-d040-6b4398fd586c"
      },
      "source": [
        "#Install the required modules\r\n",
        "!pip install gensim spacy nltk\r\n",
        "!pip install vec2graph\r\n",
        "!pip install python-bidi\r\n",
        "!pip install arabic-reshaper\r\n",
        "!pip install patool\r\n",
        "\r\n",
        "# Download a model\r\n",
        "!wget \"https://bakrianoo.s3-us-west-2.amazonaws.com/aravec/full_grams_cbow_300_wiki.zip\"\r\n",
        "!unzip \"full_grams_cbow_300_wiki.zip\"\r\n",
        "\r\n",
        "# Importing Libraries\r\n",
        "import nltk\r\n",
        "import gensim\r\n",
        "from gensim.models import FastText\r\n",
        "import re\r\n",
        "import spacy\r\n",
        "import numpy as np\r\n",
        "import operator\r\n",
        "import pandas as pd\r\n",
        "from sklearn.decomposition import PCA\r\n",
        "from bidi.algorithm import get_display\r\n",
        "import arabic_reshaper\r\n",
        "import patoolib\r\n",
        "%matplotlib inline\r\n",
        "from matplotlib import pyplot as plt\r\n",
        "nltk.download('punkt')\r\n",
        "nltk.download(\"stopwords\")\r\n",
        "arb_stopwords = set(nltk.corpus.stopwords.words(\"arabic\"))"
      ],
      "execution_count": null,
      "outputs": [
        {
          "output_type": "stream",
          "text": [
            "Requirement already satisfied: gensim in /usr/local/lib/python3.6/dist-packages (3.6.0)\n",
            "Requirement already satisfied: spacy in /usr/local/lib/python3.6/dist-packages (2.2.4)\n",
            "Requirement already satisfied: nltk in /usr/local/lib/python3.6/dist-packages (3.2.5)\n",
            "Requirement already satisfied: six>=1.5.0 in /usr/local/lib/python3.6/dist-packages (from gensim) (1.15.0)\n",
            "Requirement already satisfied: smart-open>=1.2.1 in /usr/local/lib/python3.6/dist-packages (from gensim) (4.1.2)\n",
            "Requirement already satisfied: scipy>=0.18.1 in /usr/local/lib/python3.6/dist-packages (from gensim) (1.4.1)\n",
            "Requirement already satisfied: numpy>=1.11.3 in /usr/local/lib/python3.6/dist-packages (from gensim) (1.19.5)\n",
            "Requirement already satisfied: requests<3.0.0,>=2.13.0 in /usr/local/lib/python3.6/dist-packages (from spacy) (2.23.0)\n",
            "Requirement already satisfied: plac<1.2.0,>=0.9.6 in /usr/local/lib/python3.6/dist-packages (from spacy) (1.1.3)\n",
            "Requirement already satisfied: preshed<3.1.0,>=3.0.2 in /usr/local/lib/python3.6/dist-packages (from spacy) (3.0.5)\n",
            "Requirement already satisfied: cymem<2.1.0,>=2.0.2 in /usr/local/lib/python3.6/dist-packages (from spacy) (2.0.5)\n",
            "Requirement already satisfied: catalogue<1.1.0,>=0.0.7 in /usr/local/lib/python3.6/dist-packages (from spacy) (1.0.0)\n",
            "Requirement already satisfied: thinc==7.4.0 in /usr/local/lib/python3.6/dist-packages (from spacy) (7.4.0)\n",
            "Requirement already satisfied: murmurhash<1.1.0,>=0.28.0 in /usr/local/lib/python3.6/dist-packages (from spacy) (1.0.5)\n",
            "Requirement already satisfied: blis<0.5.0,>=0.4.0 in /usr/local/lib/python3.6/dist-packages (from spacy) (0.4.1)\n",
            "Requirement already satisfied: setuptools in /usr/local/lib/python3.6/dist-packages (from spacy) (53.0.0)\n",
            "Requirement already satisfied: srsly<1.1.0,>=1.0.2 in /usr/local/lib/python3.6/dist-packages (from spacy) (1.0.5)\n",
            "Requirement already satisfied: wasabi<1.1.0,>=0.4.0 in /usr/local/lib/python3.6/dist-packages (from spacy) (0.8.1)\n",
            "Requirement already satisfied: tqdm<5.0.0,>=4.38.0 in /usr/local/lib/python3.6/dist-packages (from spacy) (4.41.1)\n",
            "Requirement already satisfied: urllib3!=1.25.0,!=1.25.1,<1.26,>=1.21.1 in /usr/local/lib/python3.6/dist-packages (from requests<3.0.0,>=2.13.0->spacy) (1.24.3)\n",
            "Requirement already satisfied: certifi>=2017.4.17 in /usr/local/lib/python3.6/dist-packages (from requests<3.0.0,>=2.13.0->spacy) (2020.12.5)\n",
            "Requirement already satisfied: idna<3,>=2.5 in /usr/local/lib/python3.6/dist-packages (from requests<3.0.0,>=2.13.0->spacy) (2.10)\n",
            "Requirement already satisfied: chardet<4,>=3.0.2 in /usr/local/lib/python3.6/dist-packages (from requests<3.0.0,>=2.13.0->spacy) (3.0.4)\n",
            "Requirement already satisfied: importlib-metadata>=0.20; python_version < \"3.8\" in /usr/local/lib/python3.6/dist-packages (from catalogue<1.1.0,>=0.0.7->spacy) (3.4.0)\n",
            "Requirement already satisfied: typing-extensions>=3.6.4; python_version < \"3.8\" in /usr/local/lib/python3.6/dist-packages (from importlib-metadata>=0.20; python_version < \"3.8\"->catalogue<1.1.0,>=0.0.7->spacy) (3.7.4.3)\n",
            "Requirement already satisfied: zipp>=0.5 in /usr/local/lib/python3.6/dist-packages (from importlib-metadata>=0.20; python_version < \"3.8\"->catalogue<1.1.0,>=0.0.7->spacy) (3.4.0)\n",
            "Collecting vec2graph\n",
            "  Downloading https://files.pythonhosted.org/packages/25/bf/45db06130554f4b35478c5989be745fa251114ba280cac04ba3ee0932396/vec2graph-0.3.0-py3-none-any.whl\n",
            "Requirement already satisfied: requests in /usr/local/lib/python3.6/dist-packages (from vec2graph) (2.23.0)\n",
            "Requirement already satisfied: smart-open>1.8 in /usr/local/lib/python3.6/dist-packages (from vec2graph) (4.1.2)\n",
            "Requirement already satisfied: gensim>3.5 in /usr/local/lib/python3.6/dist-packages (from vec2graph) (3.6.0)\n",
            "Requirement already satisfied: urllib3!=1.25.0,!=1.25.1,<1.26,>=1.21.1 in /usr/local/lib/python3.6/dist-packages (from requests->vec2graph) (1.24.3)\n",
            "Requirement already satisfied: idna<3,>=2.5 in /usr/local/lib/python3.6/dist-packages (from requests->vec2graph) (2.10)\n",
            "Requirement already satisfied: certifi>=2017.4.17 in /usr/local/lib/python3.6/dist-packages (from requests->vec2graph) (2020.12.5)\n",
            "Requirement already satisfied: chardet<4,>=3.0.2 in /usr/local/lib/python3.6/dist-packages (from requests->vec2graph) (3.0.4)\n",
            "Requirement already satisfied: numpy>=1.11.3 in /usr/local/lib/python3.6/dist-packages (from gensim>3.5->vec2graph) (1.19.5)\n",
            "Requirement already satisfied: six>=1.5.0 in /usr/local/lib/python3.6/dist-packages (from gensim>3.5->vec2graph) (1.15.0)\n",
            "Requirement already satisfied: scipy>=0.18.1 in /usr/local/lib/python3.6/dist-packages (from gensim>3.5->vec2graph) (1.4.1)\n",
            "Installing collected packages: vec2graph\n",
            "Successfully installed vec2graph-0.3.0\n",
            "Collecting python-bidi\n",
            "  Downloading https://files.pythonhosted.org/packages/33/b0/f942d146a2f457233baaafd6bdf624eba8e0f665045b4abd69d1b62d097d/python_bidi-0.4.2-py2.py3-none-any.whl\n",
            "Requirement already satisfied: six in /usr/local/lib/python3.6/dist-packages (from python-bidi) (1.15.0)\n",
            "Installing collected packages: python-bidi\n",
            "Successfully installed python-bidi-0.4.2\n",
            "Collecting arabic-reshaper\n",
            "  Downloading https://files.pythonhosted.org/packages/0a/1e/b78cacd22bd55c43f2711115d67ece3ed9616ba82d2d0e0914db2a6db985/arabic_reshaper-2.1.1.tar.gz\n",
            "Requirement already satisfied: future in /usr/local/lib/python3.6/dist-packages (from arabic-reshaper) (0.16.0)\n",
            "Requirement already satisfied: setuptools in /usr/local/lib/python3.6/dist-packages (from arabic-reshaper) (53.0.0)\n",
            "Building wheels for collected packages: arabic-reshaper\n",
            "  Building wheel for arabic-reshaper (setup.py) ... \u001b[?25l\u001b[?25hdone\n",
            "  Created wheel for arabic-reshaper: filename=arabic_reshaper-2.1.1-cp36-none-any.whl size=16504 sha256=0853db6bededfcc6b31ac63d86ad2db9b2421ad7920e56d20a4328bfaa6d717c\n",
            "  Stored in directory: /root/.cache/pip/wheels/62/52/d8/bd0dcbf00f9e77e3bd0184285ed77dfa9c475dac494a5353d1\n",
            "Successfully built arabic-reshaper\n",
            "Installing collected packages: arabic-reshaper\n",
            "Successfully installed arabic-reshaper-2.1.1\n",
            "Collecting patool\n",
            "\u001b[?25l  Downloading https://files.pythonhosted.org/packages/43/94/52243ddff508780dd2d8110964320ab4851134a55ab102285b46e740f76a/patool-1.12-py2.py3-none-any.whl (77kB)\n",
            "\u001b[K     |████████████████████████████████| 81kB 4.6MB/s \n",
            "\u001b[?25hInstalling collected packages: patool\n",
            "Successfully installed patool-1.12\n",
            "--2021-02-04 00:29:16--  https://bakrianoo.s3-us-west-2.amazonaws.com/aravec/full_grams_cbow_300_wiki.zip\n",
            "Resolving bakrianoo.s3-us-west-2.amazonaws.com (bakrianoo.s3-us-west-2.amazonaws.com)... 52.218.250.89\n",
            "Connecting to bakrianoo.s3-us-west-2.amazonaws.com (bakrianoo.s3-us-west-2.amazonaws.com)|52.218.250.89|:443... connected.\n",
            "HTTP request sent, awaiting response... 200 OK\n",
            "Length: 1491895880 (1.4G) [application/zip]\n",
            "Saving to: ‘full_grams_cbow_300_wiki.zip’\n",
            "\n",
            "full_grams_cbow_300 100%[===================>]   1.39G  57.1MB/s    in 16s     \n",
            "\n",
            "2021-02-04 00:29:33 (87.1 MB/s) - ‘full_grams_cbow_300_wiki.zip’ saved [1491895880/1491895880]\n",
            "\n",
            "Archive:  full_grams_cbow_300_wiki.zip\n",
            "  inflating: full_grams_cbow_300_wiki.mdl  \n",
            "  inflating: full_grams_cbow_300_wiki.mdl.trainables.syn1neg.npy  \n",
            "  inflating: full_grams_cbow_300_wiki.mdl.wv.vectors.npy  \n",
            "[nltk_data] Downloading package punkt to /root/nltk_data...\n",
            "[nltk_data]   Unzipping tokenizers/punkt.zip.\n",
            "[nltk_data] Downloading package stopwords to /root/nltk_data...\n",
            "[nltk_data]   Unzipping corpora/stopwords.zip.\n"
          ],
          "name": "stdout"
        }
      ]
    },
    {
      "cell_type": "code",
      "metadata": {
        "id": "oDNbr4R7dxox",
        "colab": {
          "resources": {
            "http://localhost:8080/nbextensions/google.colab/files.js": {
              "data": "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",
              "ok": true,
              "headers": [
                [
                  "content-type",
                  "application/javascript"
                ]
              ],
              "status": 200,
              "status_text": ""
            }
          },
          "base_uri": "https://localhost:8080/",
          "height": 73
        },
        "outputId": "78ce2661-f2b6-4e1c-da51-2e65cba83751"
      },
      "source": [
        "# Importing Files\r\n",
        "\r\n",
        "from google.colab import files\r\n",
        "uploaded = files.upload()"
      ],
      "execution_count": null,
      "outputs": [
        {
          "output_type": "display_data",
          "data": {
            "text/html": [
              "\n",
              "     <input type=\"file\" id=\"files-1500299c-40c4-43c1-bc50-d8bdb264282b\" name=\"files[]\" multiple disabled\n",
              "        style=\"border:none\" />\n",
              "     <output id=\"result-1500299c-40c4-43c1-bc50-d8bdb264282b\">\n",
              "      Upload widget is only available when the cell has been executed in the\n",
              "      current browser session. Please rerun this cell to enable.\n",
              "      </output>\n",
              "      <script src=\"/nbextensions/google.colab/files.js\"></script> "
            ],
            "text/plain": [
              "<IPython.core.display.HTML object>"
            ]
          },
          "metadata": {
            "tags": []
          }
        },
        {
          "output_type": "stream",
          "text": [
            "Saving arabiccc.txt to arabiccc.txt\n"
          ],
          "name": "stdout"
        }
      ]
    },
    {
      "cell_type": "markdown",
      "metadata": {
        "id": "GsuRGgNCiA2l"
      },
      "source": [
        "# II- Text Preprocessing:"
      ]
    },
    {
      "cell_type": "code",
      "metadata": {
        "id": "g1hHITVkyGvM"
      },
      "source": [
        "def clean_str(text):\r\n",
        "    search = [\"أ\",\"إ\",\"آ\",\"ة\",\"_\",\"-\",\"/\",\".\",\"،\",\" و \",\" يا \",'\"',\"ـ\",\"'\",\"ى\",\"\\\\\",'\\n', '\\t','&quot;','?','؟','!']\r\n",
        "    replace = [\"ا\",\"ا\",\"ا\",\"ه\",\" \",\" \",\"\",\"\",\"\",\" و\",\" يا\",\"\",\"\",\"\",\"ي\",\"\",' ', ' ',' ',' ? ',' ؟ ',' ! ']\r\n",
        "    \r\n",
        "    #remove tashkeel\r\n",
        "    p_tashkeel = re.compile(r'[\\u0617-\\u061A\\u064B-\\u0652]')\r\n",
        "    text = re.sub(p_tashkeel,\"\", text)\r\n",
        "    \r\n",
        "    #remove longation\r\n",
        "    p_longation = re.compile(r'(.)\\1+')\r\n",
        "    subst = r\"\\1\\1\"\r\n",
        "    text = re.sub(p_longation, subst, text)\r\n",
        "    \r\n",
        "    text = text.replace('وو', 'و')\r\n",
        "    text = text.replace('يي', 'ي')\r\n",
        "    text = text.replace('اا', 'ا')\r\n",
        "    \r\n",
        "    for i in range(0, len(search)):\r\n",
        "        text = text.replace(search[i], replace[i])\r\n",
        "    \r\n",
        "    text = \" \".join([w for w in text.split(\" \") if not w in arb_stopwords])\r\n",
        "    \r\n",
        "    text = text.strip()\r\n",
        "\r\n",
        "    return text"
      ],
      "execution_count": null,
      "outputs": []
    },
    {
      "cell_type": "markdown",
      "metadata": {
        "id": "sC7lITcjh1IO"
      },
      "source": [
        "# III- AraVec Model:"
      ]
    },
    {
      "cell_type": "code",
      "metadata": {
        "id": "IW5DlQjkz5cJ",
        "colab": {
          "base_uri": "https://localhost:8080/"
        },
        "outputId": "042382f0-d708-4879-b533-9f4321b073c5"
      },
      "source": [
        "# load the AraVec model\r\n",
        "model = gensim.models.Word2Vec.load(\"full_grams_cbow_300_wiki.mdl\")\r\n",
        "print(\"We've\",len(model.wv.index2word),\"vocabularies\")\r\n",
        "# Export the Word2Vec format + gzip it. make a directory called \"spacyModel\"\r\n",
        "%mkdir spacyModel\r\n",
        "# export the word2vec fomart to the directory\r\n",
        "model.wv.save_word2vec_format(\"./spacyModel/aravec.txt\")\r\n",
        "# using `gzip` to compress the .txt file\r\n",
        "!gzip ./spacyModel/aravec.txt\r\n",
        "\r\n",
        "#Initialize the spaCy model using AraVec vectors\r\n",
        "#This will create a folder called /spacy.aravec.model within your current working directory\r\n",
        "!python -m spacy  init-model ar spacy.aravec.model --vectors-loc ./spacyModel/aravec.txt.gz"
      ],
      "execution_count": null,
      "outputs": [
        {
          "output_type": "stream",
          "text": [
            "We've 662109 vocabularies\n",
            "\u001b[2K\u001b[38;5;2m✔ Successfully created model\u001b[0m\n",
            "662109it [01:17, 8582.36it/s]\n",
            "\u001b[2K\u001b[38;5;2m✔ Loaded vectors from spacyModel/aravec.txt.gz\u001b[0m\n",
            "\u001b[38;5;2m✔ Sucessfully compiled vocab\u001b[0m\n",
            "662298 entries, 662109 vectors\n"
          ],
          "name": "stdout"
        }
      ]
    },
    {
      "cell_type": "code",
      "metadata": {
        "id": "4ZESrmpN2Cbp",
        "colab": {
          "base_uri": "https://localhost:8080/"
        },
        "outputId": "419c4578-b0dd-457a-ad4c-ae986419de22"
      },
      "source": [
        "model.wv.index2word[:20]"
      ],
      "execution_count": null,
      "outputs": [
        {
          "output_type": "execute_result",
          "data": {
            "text/plain": [
              "['.',\n",
              " 'في',\n",
              " 'من',\n",
              " 'علي',\n",
              " '(',\n",
              " ')',\n",
              " 'الي',\n",
              " 'ان',\n",
              " 'و',\n",
              " 'عام',\n",
              " ':',\n",
              " 'التي',\n",
              " 'او',\n",
              " ',',\n",
              " 'كان',\n",
              " 'مع',\n",
              " 'هو',\n",
              " 'عن',\n",
              " 'هذه',\n",
              " 'الذي']"
            ]
          },
          "metadata": {
            "tags": []
          },
          "execution_count": 5
        }
      ]
    },
    {
      "cell_type": "code",
      "metadata": {
        "id": "qUpQiCRC0pkq"
      },
      "source": [
        "# load AraVec Spacy model\r\n",
        "nlp = spacy.load(\"./spacy.aravec.model/\")\r\n",
        "# Define the preprocessing Class\r\n",
        "class Preprocessor:\r\n",
        "    def __init__(self, tokenizer, **cfg):\r\n",
        "        self.tokenizer = tokenizer\r\n",
        "\r\n",
        "    def __call__(self, text):\r\n",
        "        preprocessed = clean_str(text)\r\n",
        "        return self.tokenizer(preprocessed)\r\n",
        "# Apply the `Preprocessor` Class\r\n",
        "nlp.tokenizer = Preprocessor(nlp.tokenizer)"
      ],
      "execution_count": null,
      "outputs": []
    },
    {
      "cell_type": "markdown",
      "metadata": {
        "id": "1BLi2L7fvPq3"
      },
      "source": [
        "## Error Detection (with vectors):"
      ]
    },
    {
      "cell_type": "code",
      "metadata": {
        "id": "qz1qjqJmWHAV"
      },
      "source": [
        "def display_pca_scatterplot(model, words=None, sample=0):\r\n",
        "    if words == None:\r\n",
        "        if sample > 0:\r\n",
        "            words = np.random.choice(list(model.vocab.keys()), sample)\r\n",
        "        else:\r\n",
        "            words = [ word for word in model.vocab ]\r\n",
        "        \r\n",
        "    word_vectors = np.array([model[w] for w in words])\r\n",
        "\r\n",
        "    twodim = PCA().fit_transform(word_vectors)[:,:2]\r\n",
        "    plt.figure(figsize=(10,7))\r\n",
        "    plt.scatter(twodim[:,0]+1, twodim[:,1]-0.1, edgecolors='none', c='purple')\r\n",
        "    \r\n",
        "    for word, (x,y) in zip(words, twodim):\r\n",
        "      reshaped_text = arabic_reshaper.reshape(u''.join(word))\r\n",
        "      artext = get_display(reshaped_text)\r\n",
        "      plt.text(x+0.02, y+0.1, artext ,fontsize=20)"
      ],
      "execution_count": null,
      "outputs": []
    },
    {
      "cell_type": "code",
      "metadata": {
        "id": "8vWYl3xRWF6b"
      },
      "source": [
        "# sort of a dictionary descendently by its values \r\n",
        "def desc_sort_dict(d): \r\n",
        "  return sorted(d.items(),key=operator.itemgetter(1),reverse=True)"
      ],
      "execution_count": null,
      "outputs": []
    },
    {
      "cell_type": "code",
      "metadata": {
        "id": "zdOV5yPJWEe7"
      },
      "source": [
        "# create a dictionary based on splitted input text\r\n",
        "def create_dictionary(input_text):\r\n",
        "  # split text into tokens \r\n",
        "  tokens = np.array(input_text.split(\" \"))\r\n",
        "  #create empty dictionary\r\n",
        "  dictionary = {}\r\n",
        "  # loop through tokens \r\n",
        "  for token in tokens: \r\n",
        "    token_vector = np.array(nlp(token).vector)  # extract vector and transform into np.array() so that we can sum it later\r\n",
        "    sum_vec = np.sum(token_vector)  # sum the vales of the vector for the current token \r\n",
        "    dictionary[token] = abs(sum_vec)  # fill the dictionary by token as key and summed vector as value\r\n",
        "  return dictionary  # return the dictionary"
      ],
      "execution_count": null,
      "outputs": []
    },
    {
      "cell_type": "code",
      "metadata": {
        "id": "1Zi6BFCBWB-t"
      },
      "source": [
        "# return the distance between the most far word and the phrase global context center\r\n",
        "def get_distance_value(ordered_tuple):\r\n",
        "  # ordered_tuple is the sorted dictionary of summed distances\r\n",
        "  d = ordered_tuple\r\n",
        "  print(d)\r\n",
        "  err = d[0][1]  # value summed the wrong word\r\n",
        "  s=0\r\n",
        "  for i in range(1,len(d)):\r\n",
        "    s+=d[i][1]\r\n",
        "  corpus_center = s/(len(d))  \r\n",
        "  res = err - corpus_center# difference between the first elemnt of the dictionary and the global context\r\n",
        "  return res "
      ],
      "execution_count": null,
      "outputs": []
    },
    {
      "cell_type": "code",
      "metadata": {
        "id": "1JirnGOy4rVv"
      },
      "source": [
        "# get a decision whether the most far word is error or not\r\n",
        "def detect(input,seuil,visualization=False):\r\n",
        "  print(input)\r\n",
        "  input = clean_str(input)\r\n",
        "  # create dictionary of tokens as keys and corresponding summed vector as values , sorted in descending order based on values\r\n",
        "  dictio = create_dictionary(input)\r\n",
        "  # sort the dictionary\r\n",
        "  d = desc_sort_dict(dictio)\r\n",
        "  # calculate the distance\r\n",
        "  distance =  get_distance_value(d)\r\n",
        "\r\n",
        "  errors=list()\r\n",
        "  for i in range(0,len(d)):\r\n",
        "    d1=list(d)\r\n",
        "    d1.remove(d1[i])\r\n",
        "\r\n",
        "    s=0\r\n",
        "    for j in range(0,len(d1)):\r\n",
        "      s+=d1[j][1]\r\n",
        "    corpus_center = s/(len(d1))\r\n",
        "    errors.append(d[i][1]-corpus_center)\r\n",
        "  \r\n",
        "  ind=errors.index(max(errors))\r\n",
        "  word = d[ind][0]\r\n",
        "\r\n",
        "  if errors[ind] >= seuil:\r\n",
        "    print(\"Decision : \",word,\" is detected as a wrong word\")\r\n",
        "  else :\r\n",
        "    print(\"Decision : \",word,\" is not considered as wrong word\")\r\n",
        "  \r\n",
        "    # visualization\r\n",
        "  if visualization==True:\r\n",
        "    display_pca_scatterplot(model, [clean_str(i) for i in input.split(\" \")])\r\n",
        "\r\n",
        "  return word\r\n"
      ],
      "execution_count": null,
      "outputs": []
    },
    {
      "cell_type": "code",
      "metadata": {
        "colab": {
          "base_uri": "https://localhost:8080/",
          "height": 556
        },
        "id": "CtcMPBFX5xTh",
        "outputId": "a22f3b1a-90e7-4c15-9c7c-7d24141d87cc"
      },
      "source": [
        "# get the input text\r\n",
        "text =  \"إصطاد الصياد سكة\"\r\n",
        "\r\n",
        "# detect errory given the input text and the amount (for the decision) \r\n",
        "detect(text,2,True)"
      ],
      "execution_count": null,
      "outputs": [
        {
          "output_type": "stream",
          "text": [
            "إصطاد الصياد سكة\n",
            "[('سكه', 5.200851), ('اصطاد', 2.7276487), ('الصياد', 0.23392582)]\n",
            "Decision :  سكه  is detected as a wrong word\n"
          ],
          "name": "stdout"
        },
        {
          "output_type": "stream",
          "text": [
            "/usr/local/lib/python3.6/dist-packages/ipykernel_launcher.py:8: DeprecationWarning: Call to deprecated `__getitem__` (Method will be removed in 4.0.0, use self.wv.__getitem__() instead).\n",
            "  \n"
          ],
          "name": "stderr"
        },
        {
          "output_type": "execute_result",
          "data": {
            "application/vnd.google.colaboratory.intrinsic+json": {
              "type": "string"
            },
            "text/plain": [
              "'سكه'"
            ]
          },
          "metadata": {
            "tags": []
          },
          "execution_count": 12
        },
        {
          "output_type": "display_data",
          "data": {
            "image/png": "[encoded data removed]",
            "text/plain": [
              "<Figure size 720x504 with 1 Axes>"
            ]
          },
          "metadata": {
            "tags": [],
            "needs_background": "light"
          }
        }
      ]
    },
    {
      "cell_type": "code",
      "metadata": {
        "id": "oyDavo8DlJUh",
        "colab": {
          "base_uri": "https://localhost:8080/",
          "height": 195
        },
        "outputId": "5c2563c3-23d8-4e6e-d97d-76ef89e345d4"
      },
      "source": [
        "# Reading DataSet\r\n",
        "df = pd.read_csv('arabiccc.txt',sep=\"\\n\")\r\n",
        "df.columns = ['text']\r\n",
        "df.head()"
      ],
      "execution_count": null,
      "outputs": [
        {
          "output_type": "execute_result",
          "data": {
            "text/html": [
              "<div>\n",
              "<style scoped>\n",
              "    .dataframe tbody tr th:only-of-type {\n",
              "        vertical-align: middle;\n",
              "    }\n",
              "\n",
              "    .dataframe tbody tr th {\n",
              "        vertical-align: top;\n",
              "    }\n",
              "\n",
              "    .dataframe thead th {\n",
              "        text-align: right;\n",
              "    }\n",
              "</style>\n",
              "<table border=\"1\" class=\"dataframe\">\n",
              "  <thead>\n",
              "    <tr style=\"text-align: right;\">\n",
              "      <th></th>\n",
              "      <th>text</th>\n",
              "    </tr>\n",
              "  </thead>\n",
              "  <tbody>\n",
              "    <tr>\n",
              "      <th>0</th>\n",
              "      <td>القَمْل|الفَلاح يَحْصد القَمْل</td>\n",
              "    </tr>\n",
              "    <tr>\n",
              "      <th>1</th>\n",
              "      <td>الفرس|الوَلد يَكْتُب الفرسَ</td>\n",
              "    </tr>\n",
              "    <tr>\n",
              "      <th>2</th>\n",
              "      <td>فداء|أَلْعَبُ فى فداء الْمَدْرَسَة</td>\n",
              "    </tr>\n",
              "    <tr>\n",
              "      <th>3</th>\n",
              "      <td>الاشرار|اقبلت بجد اسقيها اروي الاشرار احييها</td>\n",
              "    </tr>\n",
              "    <tr>\n",
              "      <th>4</th>\n",
              "      <td>معدة|الحياة بسيطة حقا ، لكننا نصر على جعلها معدة</td>\n",
              "    </tr>\n",
              "  </tbody>\n",
              "</table>\n",
              "</div>"
            ],
            "text/plain": [
              "                                               text\n",
              "0                    القَمْل|الفَلاح يَحْصد القَمْل\n",
              "1                       الفرس|الوَلد يَكْتُب الفرسَ\n",
              "2                فداء|أَلْعَبُ فى فداء الْمَدْرَسَة\n",
              "3      الاشرار|اقبلت بجد اسقيها اروي الاشرار احييها\n",
              "4  معدة|الحياة بسيطة حقا ، لكننا نصر على جعلها معدة"
            ]
          },
          "metadata": {
            "tags": []
          },
          "execution_count": 23
        }
      ]
    },
    {
      "cell_type": "code",
      "metadata": {
        "id": "Pep5zJvsXDgD",
        "colab": {
          "base_uri": "https://localhost:8080/",
          "height": 195
        },
        "outputId": "9928ed63-2b8a-4021-b809-fbe75b193742"
      },
      "source": [
        "df['Label'] = df['text'].apply(lambda x: x.split(\"|\")[0] )\r\n",
        "df['text'] = df['text'].apply(lambda x: x.split(\"|\")[1] )\r\n",
        "df.head()"
      ],
      "execution_count": null,
      "outputs": [
        {
          "output_type": "execute_result",
          "data": {
            "text/html": [
              "<div>\n",
              "<style scoped>\n",
              "    .dataframe tbody tr th:only-of-type {\n",
              "        vertical-align: middle;\n",
              "    }\n",
              "\n",
              "    .dataframe tbody tr th {\n",
              "        vertical-align: top;\n",
              "    }\n",
              "\n",
              "    .dataframe thead th {\n",
              "        text-align: right;\n",
              "    }\n",
              "</style>\n",
              "<table border=\"1\" class=\"dataframe\">\n",
              "  <thead>\n",
              "    <tr style=\"text-align: right;\">\n",
              "      <th></th>\n",
              "      <th>text</th>\n",
              "      <th>Label</th>\n",
              "    </tr>\n",
              "  </thead>\n",
              "  <tbody>\n",
              "    <tr>\n",
              "      <th>0</th>\n",
              "      <td>الفَلاح يَحْصد القَمْل</td>\n",
              "      <td>القَمْل</td>\n",
              "    </tr>\n",
              "    <tr>\n",
              "      <th>1</th>\n",
              "      <td>الوَلد يَكْتُب الفرسَ</td>\n",
              "      <td>الفرس</td>\n",
              "    </tr>\n",
              "    <tr>\n",
              "      <th>2</th>\n",
              "      <td>أَلْعَبُ فى فداء الْمَدْرَسَة</td>\n",
              "      <td>فداء</td>\n",
              "    </tr>\n",
              "    <tr>\n",
              "      <th>3</th>\n",
              "      <td>اقبلت بجد اسقيها اروي الاشرار احييها</td>\n",
              "      <td>الاشرار</td>\n",
              "    </tr>\n",
              "    <tr>\n",
              "      <th>4</th>\n",
              "      <td>الحياة بسيطة حقا ، لكننا نصر على جعلها معدة</td>\n",
              "      <td>معدة</td>\n",
              "    </tr>\n",
              "  </tbody>\n",
              "</table>\n",
              "</div>"
            ],
            "text/plain": [
              "                                          text    Label\n",
              "0                       الفَلاح يَحْصد القَمْل  القَمْل\n",
              "1                        الوَلد يَكْتُب الفرسَ    الفرس\n",
              "2                أَلْعَبُ فى فداء الْمَدْرَسَة     فداء\n",
              "3         اقبلت بجد اسقيها اروي الاشرار احييها  الاشرار\n",
              "4  الحياة بسيطة حقا ، لكننا نصر على جعلها معدة     معدة"
            ]
          },
          "metadata": {
            "tags": []
          },
          "execution_count": 24
        }
      ]
    },
    {
      "cell_type": "code",
      "metadata": {
        "id": "OKDDPZJw4mCs",
        "colab": {
          "base_uri": "https://localhost:8080/"
        },
        "outputId": "b2cef2fc-33ab-4380-ced7-33cda5f2240c"
      },
      "source": [
        "df['aravec'] = df['text'].apply(lambda x:detect(x, 2)  )"
      ],
      "execution_count": null,
      "outputs": [
        {
          "output_type": "stream",
          "text": [
            "الفَلاح يَحْصد القَمْل\n",
            "[('الفلاح', 16.073956), ('القمل', 13.140802), ('يحصد', 1.655817)]\n",
            "Decision :  الفلاح  is detected as a wrong word\n",
            "الوَلد يَكْتُب الفرسَ\n",
            "[('الفرس', 24.671114), ('يكتب', 12.792452), ('الولد', 0.09433174)]\n",
            "Decision :  الفرس  is detected as a wrong word\n",
            "أَلْعَبُ فى فداء الْمَدْرَسَة\n",
            "[('المدرسه', 50.94837), ('العب', 15.996022), ('فداء', 2.297031)]\n",
            "Decision :  المدرسه  is detected as a wrong word\n",
            "اقبلت بجد اسقيها اروي الاشرار احييها\n",
            "[('الاشرار', 26.306286), ('اقبلت', 2.0125446), ('اروي', 0.77951956), ('بجد', 0.2385757), ('اسقيها', 0.0), ('احيها', 0.0)]\n",
            "Decision :  الاشرار  is detected as a wrong word\n",
            "الحياة بسيطة حقا ، لكننا نصر على جعلها معدة\n",
            "[('جعلها', 32.911514), ('نصر', 26.633163), ('علي', 16.246435), ('الحياه', 14.298077), ('لكننا', 9.763398), ('حقا', 4.5913796), ('معده', 3.9952073), ('بسيطه', 3.080542), ('', 0.0)]\n",
            "Decision :  جعلها  is detected as a wrong word\n",
            "أنَا أَصْحُو مِن النَوم مبتكرا\n",
            "[('انا', 43.12957), ('مبتكرا', 3.819501), ('النوم', 1.7440605), ('اصحو', 0.0)]\n",
            "Decision :  انا  is detected as a wrong word\n",
            "كثب وَأَقْرَأُ دِرُوسِى\n",
            "[('واقرا', 6.8547907), ('كثب', 6.1537595), ('دروسي', 0.0)]\n",
            "Decision :  واقرا  is detected as a wrong word\n",
            "ترك له والده ثورة\n",
            "[('والده', 31.17857), ('ثوره', 21.632835), ('ترك', 17.265436)]\n",
            "Decision :  والده  is detected as a wrong word\n",
            "تعد البطالة احد اهم الظواهر التى تلازم المستمع\n",
            "[('احد', 24.848902), ('المستمع', 14.341793), ('الظواهر', 11.589709), ('تعد', 10.439096), ('تلازم', 3.72263), ('اهم', 3.602672), ('البطاله', 0.90446186)]\n",
            "Decision :  احد  is detected as a wrong word\n",
            "يتطلب المشروع قرضا من الحنك الدولي\n",
            "[('الدولي', 40.564423), ('المشروع', 36.207527), ('يتطلب', 11.036611), ('قرضا', 5.7817445), ('الحنك', 3.9159975)]\n",
            "Decision :  الدولي  is detected as a wrong word\n",
            "ارجع البعض السبب إلي ارتفاع اسفار النفط\n",
            "[('السبب', 37.374447), ('النفط', 36.74848), ('ارتفاع', 33.39731), ('ارجع', 29.908136), ('الي', 23.814472), ('البعض', 8.249077), ('اسفار', 2.9952111)]\n",
            "Decision :  السبب  is detected as a wrong word\n",
            "اقبلت بجد اسقيها اروي الاشرار احييها\n",
            "[('الاشرار', 26.306286), ('اقبلت', 2.0125446), ('اروي', 0.77951956), ('بجد', 0.2385757), ('اسقيها', 0.0), ('احيها', 0.0)]\n",
            "Decision :  الاشرار  is detected as a wrong word\n",
            "الوَلد يَكْتُب الفرس\n",
            "[('الفرس', 24.671114), ('يكتب', 12.792452), ('الولد', 0.09433174)]\n",
            "Decision :  الفرس  is detected as a wrong word\n",
            "كثير من العروض التى تم صرفها لتمويل المشاريع\n",
            "[('تم', 76.70028), ('كثير', 5.976065), ('لتمويل', 4.7728653), ('العروض', 4.4618897), ('المشاريع', 4.1128845), ('صرفها', 2.1369004)]\n",
            "Decision :  تم  is detected as a wrong word\n",
            "هو يسكب في منزل كبير\n",
            "[('كبير', 18.743444), ('منزل', 4.825654), ('يسكب', 1.4112835)]\n",
            "Decision :  كبير  is detected as a wrong word\n",
            "لبثت ثوبا جديدا\n",
            "[('جديدا', 9.833173), ('ثوبا', 7.3904653), ('لبثت', 3.0453804)]\n",
            "Decision :  جديدا  is detected as a wrong word\n",
            "اقبلت بجد اسقيها اروي الاشرار احييها\n",
            "[('الاشرار', 26.306286), ('اقبلت', 2.0125446), ('اروي', 0.77951956), ('بجد', 0.2385757), ('اسقيها', 0.0), ('احيها', 0.0)]\n",
            "Decision :  الاشرار  is detected as a wrong word\n",
            "ان سلمت من الاسد فلا تسمع في صيده\n",
            "[('الاسد', 37.571342), ('تسمع', 21.559961), ('سلمت', 19.357487), ('ان', 18.619272), ('صيده', 2.6843631)]\n",
            "Decision :  الاسد  is detected as a wrong word\n",
            "أنَا أَصْحُو مِن النَوم مبتكرا\n",
            "[('انا', 43.12957), ('مبتكرا', 3.819501), ('النوم', 1.7440605), ('اصحو', 0.0)]\n",
            "Decision :  انا  is detected as a wrong word\n",
            "الحياة تجارب يستفيد منها العازل\n",
            "[('الحياه', 14.298077), ('يستفيد', 10.918987), ('تجارب', 4.6821566), ('العازل', 4.6337423)]\n",
            "Decision :  الحياه  is detected as a wrong word\n",
            "اصطاد الصياد سكة\n",
            "[('سكه', 5.200851), ('اصطاد', 2.7276487), ('الصياد', 0.23392582)]\n",
            "Decision :  سكه  is detected as a wrong word\n",
            "الوَلد يَكْتُب الفرس\n",
            "[('الفرس', 24.671114), ('يكتب', 12.792452), ('الولد', 0.09433174)]\n",
            "Decision :  الفرس  is detected as a wrong word\n",
            "لو أعطيت الأحمق خنجرا أصبت قاتلا\n",
            "[('الاحمق', 13.433995), ('اعطيت', 8.011593), ('اصبت', 3.1401896), ('قاتلا', 1.9069203), ('خنجرا', 1.4060795)]\n",
            "Decision :  الاحمق  is detected as a wrong word\n",
            "الحياة هي ما يحدث لك وأنت مغول بوضع خطط أخرى\n",
            "[('اخري', 59.650356), ('وانت', 24.161396), ('يحدث', 17.340578), ('الحياه', 14.298077), ('بوضع', 9.273277), ('خطط', 9.182676), ('مغول', 4.1154537)]\n",
            "Decision :  اخري  is detected as a wrong word\n",
            "في يوم همست في اذني من يمسح عن قالبي حزني\n",
            "[('يوم', 41.922043), ('يمسح', 6.5682073), ('حزني', 5.2828245), ('همست', 2.9527614), ('اذني', 2.1701567), ('قالبي', 0.0)]\n",
            "Decision :  يوم  is detected as a wrong word\n",
            "اقبلت بجد اسقيها اروي الاشرار احييها\n",
            "[('الاشرار', 26.306286), ('اقبلت', 2.0125446), ('اروي', 0.77951956), ('بجد', 0.2385757), ('اسقيها', 0.0), ('احيها', 0.0)]\n",
            "Decision :  الاشرار  is detected as a wrong word\n",
            "يرجعني خضراء اللون اعشاشا للطيار\n",
            "[('خضراء', 40.891834), ('للطيار', 9.9956), ('اللون', 7.0675564), ('اعشاشا', 0.54115486), ('يرجعني', 0.0)]\n",
            "Decision :  خضراء  is detected as a wrong word\n",
            "اصطاد الصياد سكة\n",
            "[('سكه', 5.200851), ('اصطاد', 2.7276487), ('الصياد', 0.23392582)]\n",
            "Decision :  سكه  is detected as a wrong word\n",
            "الوَلد يَكْتُب الفرس\n",
            "[('الفرس', 24.671114), ('يكتب', 12.792452), ('الولد', 0.09433174)]\n",
            "Decision :  الفرس  is detected as a wrong word\n",
            "لحديقتنا في قريتنا باب و لها اساور\n",
            "[('باب', 26.486261), ('ولها', 20.733871), ('اساور', 2.2306604), ('قريتنا', 0.5864632), ('لحديقتنا', 0.0)]\n",
            "Decision :  باب  is detected as a wrong word\n",
            "لا يعلم احد ما فيها تخفق عنا الاسرار\n",
            "[('يعلم', 24.980766), ('احد', 24.848902), ('عنا', 21.664473), ('الاسرار', 21.157032), ('تخفق', 0.7260299)]\n",
            "Decision :  يعلم  is detected as a wrong word\n",
            "اصطاد الصياد سكة\n",
            "[('سكه', 5.200851), ('اصطاد', 2.7276487), ('الصياد', 0.23392582)]\n",
            "Decision :  سكه  is detected as a wrong word\n",
            "الوَلد يَكْتُب الفرس\n",
            "[('الفرس', 24.671114), ('يكتب', 12.792452), ('الولد', 0.09433174)]\n",
            "Decision :  الفرس  is detected as a wrong word\n",
            "اقبلت بجد اسقيها اروي الاشرار احييها\n",
            "[('الاشرار', 26.306286), ('اقبلت', 2.0125446), ('اروي', 0.77951956), ('بجد', 0.2385757), ('اسقيها', 0.0), ('احيها', 0.0)]\n",
            "Decision :  الاشرار  is detected as a wrong word\n",
            "و غدى من اجهل ما فيها زهر لا كالازهار\n",
            "[('و', 17.510727), ('غدي', 8.5989685), ('زهر', 4.243536), ('اجهل', 0.5043621), ('كالازهار', 0.0)]\n",
            "Decision :  و  is detected as a wrong word\n",
            "ما أجمل أن تسقي الشجار لتضاهي في الحسن القمر\n",
            "[('القمر', 38.214905), ('ان', 18.619272), ('الشجار', 13.320885), ('اجمل', 11.443955), ('تسقي', 3.0327492), ('الحسن', 1.3039064), ('لتضاهي', 0.0)]\n",
            "Decision :  القمر  is detected as a wrong word\n",
            "أنَا أَصْحُو مِن النَوم مبتكرا\n",
            "[('انا', 43.12957), ('مبتكرا', 3.819501), ('النوم', 1.7440605), ('اصحو', 0.0)]\n",
            "Decision :  انا  is detected as a wrong word\n",
            "أنا تغرس في اليائس أملا زرعا يعطي الأثمان\n",
            "[('انا', 43.12957), ('يعطي', 7.6620607), ('اليائس', 7.1880836), ('تغرس', 2.6370475), ('الاثمان', 2.272684), ('زرعا', 1.7840552), ('املا', 1.655817)]\n",
            "Decision :  انا  is detected as a wrong word\n",
            "اصطاد الصياد سكة\n",
            "[('سكه', 5.200851), ('اصطاد', 2.7276487), ('الصياد', 0.23392582)]\n",
            "Decision :  سكه  is detected as a wrong word\n",
            "انقذوني انا على وشك التوت\n",
            "[('انا', 43.12957), ('التوت', 18.099861), ('علي', 16.246435), ('وشك', 8.605699), ('انقذوني', 0.0)]\n",
            "Decision :  انا  is detected as a wrong word\n",
            "الوَلد يَكْتُب الفرس\n",
            "[('الفرس', 24.671114), ('يكتب', 12.792452), ('الولد', 0.09433174)]\n",
            "Decision :  الفرس  is detected as a wrong word\n",
            "كان الراعي جالس اعلى التل يرعى الالغام\n",
            "[('التل', 31.839186), ('الراعي', 18.805649), ('اعلي', 12.773361), ('يرعي', 8.688787), ('كان', 6.739026), ('الالغام', 3.155991), ('جالس', 0.86468196)]\n",
            "Decision :  التل  is detected as a wrong word\n",
            "اقبلت بجد اسقيها اروي الاشرار احييها\n",
            "[('الاشرار', 26.306286), ('اقبلت', 2.0125446), ('اروي', 0.77951956), ('بجد', 0.2385757), ('اسقيها', 0.0), ('احيها', 0.0)]\n",
            "Decision :  الاشرار  is detected as a wrong word\n",
            "اخذ ايمن يبكي بشدة وتوجه الى البرد مسرعا\n",
            "[('اخذ', 28.886707), ('الي', 23.814472), ('يبكي', 14.691585), ('وتوجه', 8.390259), ('بشده', 6.580895), ('مسرعا', 5.2432837), ('البرد', 2.2301698), ('ايمن', 0.86120987)]\n",
            "Decision :  اخذ  is detected as a wrong word\n",
            "اصطاد الصياد سكة\n",
            "[('سكه', 5.200851), ('اصطاد', 2.7276487), ('الصياد', 0.23392582)]\n",
            "Decision :  سكه  is detected as a wrong word\n",
            "الوَلد يَكْتُب الفرس\n",
            "[('الفرس', 24.671114), ('يكتب', 12.792452), ('الولد', 0.09433174)]\n",
            "Decision :  الفرس  is detected as a wrong word\n",
            "اعدك باني لن اكرر الافعال السيئة التي كنت اقوم بها موزة اخرى\n",
            "[('اخري', 59.650356), ('كنت', 53.864666), ('الافعال', 37.006584), ('السيئه', 20.689877), ('باني', 16.869688), ('موزه', 6.2396975), ('اقوم', 5.597558), ('اكرر', 4.2132745), ('اعدك', 0.66968745)]\n",
            "Decision :  اخري  is detected as a wrong word\n",
            "اقبلت بجد اسقيها اروي الاشرار احييها\n",
            "[('الاشرار', 26.306286), ('اقبلت', 2.0125446), ('اروي', 0.77951956), ('بجد', 0.2385757), ('اسقيها', 0.0), ('احيها', 0.0)]\n",
            "Decision :  الاشرار  is detected as a wrong word\n"
          ],
          "name": "stdout"
        }
      ]
    },
    {
      "cell_type": "code",
      "metadata": {
        "id": "cu_uFBma4wgn",
        "colab": {
          "base_uri": "https://localhost:8080/",
          "height": 195
        },
        "outputId": "b9349b70-d903-4f04-fe69-4a04097ff0cf"
      },
      "source": [
        "df.head()"
      ],
      "execution_count": null,
      "outputs": [
        {
          "output_type": "execute_result",
          "data": {
            "text/html": [
              "<div>\n",
              "<style scoped>\n",
              "    .dataframe tbody tr th:only-of-type {\n",
              "        vertical-align: middle;\n",
              "    }\n",
              "\n",
              "    .dataframe tbody tr th {\n",
              "        vertical-align: top;\n",
              "    }\n",
              "\n",
              "    .dataframe thead th {\n",
              "        text-align: right;\n",
              "    }\n",
              "</style>\n",
              "<table border=\"1\" class=\"dataframe\">\n",
              "  <thead>\n",
              "    <tr style=\"text-align: right;\">\n",
              "      <th></th>\n",
              "      <th>text</th>\n",
              "      <th>Label</th>\n",
              "      <th>aravec</th>\n",
              "    </tr>\n",
              "  </thead>\n",
              "  <tbody>\n",
              "    <tr>\n",
              "      <th>0</th>\n",
              "      <td>الفَلاح يَحْصد القَمْل</td>\n",
              "      <td>القَمْل</td>\n",
              "      <td>الفلاح</td>\n",
              "    </tr>\n",
              "    <tr>\n",
              "      <th>1</th>\n",
              "      <td>الوَلد يَكْتُب الفرسَ</td>\n",
              "      <td>الفرس</td>\n",
              "      <td>الفرس</td>\n",
              "    </tr>\n",
              "    <tr>\n",
              "      <th>2</th>\n",
              "      <td>أَلْعَبُ فى فداء الْمَدْرَسَة</td>\n",
              "      <td>فداء</td>\n",
              "      <td>المدرسه</td>\n",
              "    </tr>\n",
              "    <tr>\n",
              "      <th>3</th>\n",
              "      <td>اقبلت بجد اسقيها اروي الاشرار احييها</td>\n",
              "      <td>الاشرار</td>\n",
              "      <td>الاشرار</td>\n",
              "    </tr>\n",
              "    <tr>\n",
              "      <th>4</th>\n",
              "      <td>الحياة بسيطة حقا ، لكننا نصر على جعلها معدة</td>\n",
              "      <td>معدة</td>\n",
              "      <td>جعلها</td>\n",
              "    </tr>\n",
              "  </tbody>\n",
              "</table>\n",
              "</div>"
            ],
            "text/plain": [
              "                                          text    Label   aravec\n",
              "0                       الفَلاح يَحْصد القَمْل  القَمْل   الفلاح\n",
              "1                        الوَلد يَكْتُب الفرسَ    الفرس    الفرس\n",
              "2                أَلْعَبُ فى فداء الْمَدْرَسَة     فداء  المدرسه\n",
              "3         اقبلت بجد اسقيها اروي الاشرار احييها  الاشرار  الاشرار\n",
              "4  الحياة بسيطة حقا ، لكننا نصر على جعلها معدة     معدة    جعلها"
            ]
          },
          "metadata": {
            "tags": []
          },
          "execution_count": 26
        }
      ]
    },
    {
      "cell_type": "markdown",
      "metadata": {
        "id": "RePb_ygY1CGd"
      },
      "source": [
        "# IV- Model Evaluation:"
      ]
    },
    {
      "cell_type": "code",
      "metadata": {
        "colab": {
          "base_uri": "https://localhost:8080/"
        },
        "id": "PrP_A0rRWg_R",
        "outputId": "a2b3d69b-433c-4974-9777-958af7a63acf"
      },
      "source": [
        "# Precision and Recall Calculation\r\n",
        "\r\n",
        "true=0\r\n",
        "false=0\r\n",
        "c=0\r\n",
        "for i,j in zip(df['Label'],df['aravec']):\r\n",
        "  c+=1\r\n",
        "  if i == j:\r\n",
        "    true+=1\r\n",
        "  else:\r\n",
        "    false+=1\r\n",
        "print(\"Precision: \",true/c)\r\n",
        "print(\"Recall: \",true/false)"
      ],
      "execution_count": null,
      "outputs": [
        {
          "output_type": "stream",
          "text": [
            "Precision:  0.2916666666666667\n",
            "Recall:  0.4117647058823529\n"
          ],
          "name": "stdout"
        }
      ]
    }
  ]
}